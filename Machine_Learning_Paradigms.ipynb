{
  "nbformat": 4,
  "nbformat_minor": 0,
  "metadata": {
    "colab": {
      "private_outputs": true,
      "provenance": []
    },
    "kernelspec": {
      "name": "python3",
      "display_name": "Python 3"
    },
    "language_info": {
      "name": "python"
    }
  },
  "cells": [
    {
      "cell_type": "markdown",
      "source": [
        "#What is paradigm in machine learning?\n",
        "guided learning, unsupervised learning, and reinforcement learning are the three main paradigms in machine learning.\n",
        "\n",
        "\n",
        "#What are the different types of learning paradigm?\n",
        "supervised learning, unsupervised learning, and semi-supervised learning are the three main machine learning paradigms used by today's engineers. The first, supervised learning, uses data that has been labelled.\n",
        "\n",
        "#What is the purpose of learning paradigm?\n",
        "The Learning Paradigm (as opposed to the Instruction Paradigm) emphasises students' active participation in learning as well as the purpose of that learning, both of which can be powerful motivators for students. The issue for educators is to give students some control over their learning.\n",
        "\n",
        "#What are some examples of paradigms?\n",
        "\n",
        "The scientific method, for example, is a paradigm in and of itself (though which \"science\" views the world: a traditional Western, empirical, quantitative approach to studying things). The theory of evolution is another example of a paradigm.\n"
      ],
      "metadata": {
        "id": "4Skv9N8Fv1MS"
      }
    },
    {
      "cell_type": "markdown",
      "source": [
        "#Supervised Learning Algorithms\n",
        "##Overview of Classification\n",
        "###What is classification in machine learning?\n",
        "Classification is a predictive modelling task in machine learning where a class label is predicted for a given example of input data. The following are some examples of classification issues: Determine whether or not a given example is spam. Determine which of the known characters a handwritten character belongs to.\n",
        "\n",
        "###What are the advantages of different classification algorithms?\n",
        "Overfitting is not a problem for this performer because he is not influenced by outliers. Not suitable for non-linear problems, and not the greatest option for problems with a large number of features. High performance on non-linear problems, not influenced by outliers, and not overfitting sensitive.\n",
        "\n",
        "###How is classification used in machine learning?\n",
        "A simple majority vote of each point's k nearest neighbours is used to classify it. It's supervised and uses a collection of identified points to label other points. It looks at the labelled points closest to the new point, usually known as its nearest neighbours, to label it.\n",
        "\n",
        "\n",
        "###Why is classification important in machine learning?\n",
        "\n",
        "The ability to recognise items and categorise them is a typical task for machine learning systems. This is known as classification, and it allows us to categorise large amounts of data into discrete values, such as 0/1, True/False, or a pre-defined output label class.\n",
        "\n",
        "###What is the purpose of a classifier?\n",
        "\n",
        "A classifier is a machine learning method used in data science to assign a class label to a data input. An image recognition classifier, for example, can be used to label a picture (e.g., \"vehicle,\" \"truck,\" or \"human\").\n",
        "\n",
        "\n",
        "\n",
        "\n",
        "\n"
      ],
      "metadata": {
        "id": "ruuVELHrgZ9m"
      }
    },
    {
      "cell_type": "markdown",
      "source": [
        "#Logistic Regression in Machine Learning\n",
        "##What is logistic regression for machine learning?\n",
        "\n",
        "Supervised learning is exemplified via logistic regression. It's used to figure out or anticipate the chances of a binary (yes/no) event happening. Using machine learning to determine if a person is likely to be infected is an example of logistic regression.\n",
        "\n",
        "##What is the goal of logistic regression model?\n",
        "\n",
        "By showing the probability scores of the dependent variables, logistic regression seeks to quantify the association between a categorical dependent variable and one or more independent variables (typically continuous).\n",
        "\n",
        "##What is logistic regression used for?\n",
        "By estimating probabilities using a logistic regression equation, it is employed in statistical software to comprehend the relationship between the dependent variable and one or more independent variables. This form of analysis can assist you in predicting the chances of an occurrence or a decision occurring.\n",
        "\n",
        "\n",
        "##What are the advantages of logistic regression in machine learning?\n",
        "The key advantage of logistic regression over other machine learning and AI applications is that it is significantly easier to set up and train. When the different outcomes or distinctions represented by the data are linearly separable, it is also one of the most efficient methods.\n",
        "\n",
        "##What type of algorithm is logistic regression?\n",
        "\n",
        "Logistic Regression is a Machine Learning algorithm that is used to solve classification problems. It is a predictive analytic approach that is based on the probability notion.\n",
        "\n",
        "\n",
        "\n",
        "\n"
      ],
      "metadata": {
        "id": "Db_dBYP3hQhS"
      }
    },
    {
      "cell_type": "markdown",
      "source": [
        "#Logistic Regression in Machine Learning - Practical\n",
        "# scikit-learn:- [Web_site](https://scikit-learn.org/stable/index.html)\n"
      ],
      "metadata": {
        "id": "h3VwcsR3hkvC"
      }
    },
    {
      "cell_type": "code",
      "source": [
        "import pandas as pd\n",
        "import numpy as np"
      ],
      "metadata": {
        "id": "Tspa-I91hjdd"
      },
      "execution_count": null,
      "outputs": []
    },
    {
      "cell_type": "code",
      "source": [
        "data = pd.read_csv('/content/Social_Network_Ads.csv')"
      ],
      "metadata": {
        "id": "ZRl3qjqQiwr6"
      },
      "execution_count": null,
      "outputs": []
    },
    {
      "cell_type": "code",
      "source": [
        "data.head()\n"
      ],
      "metadata": {
        "id": "PqVWJa1cjKUx"
      },
      "execution_count": null,
      "outputs": []
    },
    {
      "cell_type": "code",
      "source": [
        "# Logistic Regression\n",
        "# a Person will buy new car  or not\n",
        "# launch new car...............marketing..........in social media\n",
        "# Cl Purchase 0= not purcahsed and 1 = car purchased\n",
        "\n",
        "\n"
      ],
      "metadata": {
        "id": "tTCp6UmsjNeR"
      },
      "execution_count": null,
      "outputs": []
    },
    {
      "cell_type": "code",
      "source": [
        "data"
      ],
      "metadata": {
        "id": "n4FHyF5_kC82"
      },
      "execution_count": null,
      "outputs": []
    },
    {
      "cell_type": "code",
      "source": [
        "data.columns"
      ],
      "metadata": {
        "id": "TJwVVqb5kEE4"
      },
      "execution_count": null,
      "outputs": []
    },
    {
      "cell_type": "code",
      "source": [
        "#input featureset-'User ID', 'Gender', 'Age', 'EstimatedSalary'"
      ],
      "metadata": {
        "id": "pCtpH_q8kTAX"
      },
      "execution_count": null,
      "outputs": []
    },
    {
      "cell_type": "code",
      "source": [
        "#1st- list- pre-processing\n",
        "#2nd- logistic regression--- model\n",
        "#3rd- evaluate"
      ],
      "metadata": {
        "id": "40Gn2rAtklZI"
      },
      "execution_count": null,
      "outputs": []
    },
    {
      "cell_type": "code",
      "source": [
        "# graphic\n",
        "import matplotlib.pyplot as plt\n",
        "import seaborn as sns\n",
        "\n"
      ],
      "metadata": {
        "id": "vUV_JT0klFh-"
      },
      "execution_count": null,
      "outputs": []
    },
    {
      "cell_type": "code",
      "source": [
        "#x and y ---- Input and output\n"
      ],
      "metadata": {
        "id": "YTOkOsD6lQ3f"
      },
      "execution_count": null,
      "outputs": []
    },
    {
      "cell_type": "code",
      "source": [
        "x=data.iloc[:,[2,3]]"
      ],
      "metadata": {
        "id": "Gad4nXO_lVVA"
      },
      "execution_count": null,
      "outputs": []
    },
    {
      "cell_type": "code",
      "source": [
        "x=data.iloc[:,[2,3]].values\n",
        "x"
      ],
      "metadata": {
        "id": "HXgOnwspl1ka"
      },
      "execution_count": null,
      "outputs": []
    },
    {
      "cell_type": "code",
      "source": [
        "y=data.iloc[:,4].values\n",
        "y"
      ],
      "metadata": {
        "id": "JTVT68W5mCjD"
      },
      "execution_count": null,
      "outputs": []
    },
    {
      "cell_type": "code",
      "source": [
        "from sklearn.model_selection import train_test_split"
      ],
      "metadata": {
        "id": "Q_REVdrLmOMi"
      },
      "execution_count": null,
      "outputs": []
    },
    {
      "cell_type": "code",
      "source": [
        "x_train,x_test,y_train,y_test=train_test_split(x,y,test_size=0.25,random_state=0)"
      ],
      "metadata": {
        "id": "gxhv7MidmrUT"
      },
      "execution_count": null,
      "outputs": []
    },
    {
      "cell_type": "code",
      "source": [
        "x_train.shape,x_test.shape\n"
      ],
      "metadata": {
        "id": "Tim5U06Em3Qz"
      },
      "execution_count": null,
      "outputs": []
    },
    {
      "cell_type": "code",
      "source": [
        "# scale convert the vale 0 to 1 or -1 to 1\n",
        "from sklearn.preprocessing import StandardScaler"
      ],
      "metadata": {
        "id": "EX3Y0oW2nQdj"
      },
      "execution_count": null,
      "outputs": []
    },
    {
      "cell_type": "code",
      "source": [
        "sc=StandardScaler()"
      ],
      "metadata": {
        "id": "STPnwvWhnjnc"
      },
      "execution_count": null,
      "outputs": []
    },
    {
      "cell_type": "code",
      "source": [
        "x_train=sc.fit_transform(x_train)\n",
        "x_train"
      ],
      "metadata": {
        "id": "FQR6acnbnpNF"
      },
      "execution_count": null,
      "outputs": []
    },
    {
      "cell_type": "code",
      "source": [
        "x_test=sc.fit_transform(x_test)\n",
        "x_test\n"
      ],
      "metadata": {
        "id": "OcFvwwcWnzae"
      },
      "execution_count": null,
      "outputs": []
    },
    {
      "cell_type": "code",
      "source": [
        "from sklearn.linear_model import LogisticRegression"
      ],
      "metadata": {
        "id": "3wPkOXOsoHDE"
      },
      "execution_count": null,
      "outputs": []
    },
    {
      "cell_type": "code",
      "source": [
        "log_reg=LogisticRegression(random_state=0)"
      ],
      "metadata": {
        "id": "borLD243oUHb"
      },
      "execution_count": null,
      "outputs": []
    },
    {
      "cell_type": "code",
      "source": [
        "log_reg.fit(x_test,y_test)"
      ],
      "metadata": {
        "id": "1d86Oyb9oYWu"
      },
      "execution_count": null,
      "outputs": []
    },
    {
      "cell_type": "code",
      "source": [
        "y_pred=log_reg.predict(x_test)\n",
        "y_pred,y_test"
      ],
      "metadata": {
        "id": "kueMwsFnoqJO"
      },
      "execution_count": null,
      "outputs": []
    },
    {
      "cell_type": "code",
      "source": [
        "data['age']"
      ],
      "metadata": {
        "id": "aqjj48t-plkp"
      },
      "execution_count": null,
      "outputs": []
    },
    {
      "cell_type": "code",
      "source": [
        "data.iloc[:,2].head()"
      ],
      "metadata": {
        "id": "Y9_NbNUIpnd0"
      },
      "execution_count": null,
      "outputs": []
    },
    {
      "cell_type": "code",
      "source": [
        "plt.scatter(data.iloc[:,2],y_test)"
      ],
      "metadata": {
        "id": "1Y9QjlRmp0Gb"
      },
      "execution_count": null,
      "outputs": []
    },
    {
      "cell_type": "code",
      "source": [
        "plt.scatter(data.iloc[:,2],y_pred)"
      ],
      "metadata": {
        "id": "8kthklrBqHv9"
      },
      "execution_count": null,
      "outputs": []
    },
    {
      "cell_type": "code",
      "source": [
        "x_test[:,0]"
      ],
      "metadata": {
        "id": "CclW0L9bqLOe"
      },
      "execution_count": null,
      "outputs": []
    },
    {
      "cell_type": "code",
      "source": [
        "plt.scatter(x_test[:,0],y_test,c=y_pred)"
      ],
      "metadata": {
        "id": "VCimoRG4qYAE"
      },
      "execution_count": null,
      "outputs": []
    },
    {
      "cell_type": "code",
      "source": [
        "from sklearn.metrics import accuracy_score,confusion_matrix"
      ],
      "metadata": {
        "id": "BSMLcvjOqqux"
      },
      "execution_count": null,
      "outputs": []
    },
    {
      "cell_type": "code",
      "source": [
        "print ('accuracy_score',accuracy_score(y_test,y_pred))"
      ],
      "metadata": {
        "id": "_y2_wQ7grRzV"
      },
      "execution_count": null,
      "outputs": []
    },
    {
      "cell_type": "code",
      "source": [
        "cf=confusion_matrix(y_test,y_pred)\n",
        "cf"
      ],
      "metadata": {
        "id": "zRsQmfDxr04j"
      },
      "execution_count": null,
      "outputs": []
    },
    {
      "cell_type": "markdown",
      "source": [
        "#Logistic Regression in Machine Learning - Practical - 2\n",
        "\n",
        "\n"
      ],
      "metadata": {
        "id": "hw7Eir7rOCS2"
      }
    },
    {
      "cell_type": "code",
      "source": [
        "from sklearn.datasets import load_iris\n",
        "from sklearn.linear_model import LogisticRegression\n"
      ],
      "metadata": {
        "id": "HygENbDOr7Oc"
      },
      "execution_count": null,
      "outputs": []
    },
    {
      "cell_type": "code",
      "source": [
        "data=load_iris()"
      ],
      "metadata": {
        "id": "M1Goa9SDMW5Y"
      },
      "execution_count": null,
      "outputs": []
    },
    {
      "cell_type": "code",
      "source": [
        "data.target"
      ],
      "metadata": {
        "id": "ieYWd-tEMZ2r"
      },
      "execution_count": null,
      "outputs": []
    },
    {
      "cell_type": "code",
      "source": [
        "X,y=load_iris(return_X_y=True)"
      ],
      "metadata": {
        "id": "2KoWGW8sMeQr"
      },
      "execution_count": null,
      "outputs": []
    },
    {
      "cell_type": "code",
      "source": [
        "X,y"
      ],
      "metadata": {
        "id": "ruEyNHT0MmaZ"
      },
      "execution_count": null,
      "outputs": []
    },
    {
      "cell_type": "code",
      "source": [
        "#Creat Object for logistics Regresion\n",
        "lr=LogisticRegression(random_state=0)"
      ],
      "metadata": {
        "id": "Sh3v7P6LM2O5"
      },
      "execution_count": null,
      "outputs": []
    },
    {
      "cell_type": "code",
      "source": [
        "#Train the algorithm--model---using fit function\n",
        "lr.fit(X,y)"
      ],
      "metadata": {
        "id": "TQku2-L1NCe6"
      },
      "execution_count": null,
      "outputs": []
    },
    {
      "cell_type": "code",
      "source": [
        "X[:2,:]"
      ],
      "metadata": {
        "id": "AfkgZzJfNcho"
      },
      "execution_count": null,
      "outputs": []
    },
    {
      "cell_type": "code",
      "source": [
        "lr.predict(X[:2,:])"
      ],
      "metadata": {
        "id": "VjC3c4LWNhWx"
      },
      "execution_count": null,
      "outputs": []
    },
    {
      "cell_type": "code",
      "source": [
        "lr.predict(X[130:132,:])"
      ],
      "metadata": {
        "id": "I-SE3hvONj94"
      },
      "execution_count": null,
      "outputs": []
    },
    {
      "cell_type": "code",
      "source": [
        "#Find the Score\n",
        "lr.score(X,y)"
      ],
      "metadata": {
        "id": "1me4aYJJNxdD"
      },
      "execution_count": null,
      "outputs": []
    },
    {
      "cell_type": "code",
      "source": [],
      "metadata": {
        "id": "wAIFimndN2mf"
      },
      "execution_count": null,
      "outputs": []
    }
  ]
}