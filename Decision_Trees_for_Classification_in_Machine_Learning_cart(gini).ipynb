{
  "nbformat": 4,
  "nbformat_minor": 0,
  "metadata": {
    "colab": {
      "private_outputs": true,
      "provenance": []
    },
    "kernelspec": {
      "name": "python3",
      "display_name": "Python 3"
    },
    "language_info": {
      "name": "python"
    }
  },
  "cells": [
    {
      "cell_type": "markdown",
      "source": [
        "#What are the advantages of ID3?\n",
        "The following are some of the primary advantages of ID3: The training data is used to generate understandable prediction rules. Builds a short tree in a short amount of time. It simply needs to test a small number of attributes until all of the data has been categorised.\n",
        "\n",
        "#Can decision tree be used for classification?\n",
        "In the shape of a tree structure, a decision tree constructs classification or regression models. It incrementally cuts down a dataset into smaller and smaller sections while also developing an associated decision tree. Both category and numerical data can be handled by decision trees.\n",
        "\n",
        "#What is the final objective of decision tree?\n",
        "Because the purpose of a decision tree is to make the best decision at the end of each node, it requires an algorithm that can accomplish just that. Hunt's algorithm, which is both greedy and recursive, is the name of the algorithm.\n",
        "\n"
      ],
      "metadata": {
        "id": "5RIMQSQLlWie"
      }
    },
    {
      "cell_type": "markdown",
      "source": [
        "#Decision Trees for Classification in Machine Learning - Practical - 1\n"
      ],
      "metadata": {
        "id": "51jWZVPDlyd6"
      }
    },
    {
      "cell_type": "code",
      "source": [
        "import pandas as pd\n"
      ],
      "metadata": {
        "id": "fFD4drXyl1ff"
      },
      "execution_count": null,
      "outputs": []
    },
    {
      "cell_type": "code",
      "source": [
        "dataset=pd.read_csv('/content/Social_Network_Ads.csv')"
      ],
      "metadata": {
        "id": "G1GJ2sZAmJ_a"
      },
      "execution_count": null,
      "outputs": []
    },
    {
      "cell_type": "code",
      "source": [
        "dataset"
      ],
      "metadata": {
        "id": "D12Y25fmmS4L"
      },
      "execution_count": null,
      "outputs": []
    },
    {
      "cell_type": "code",
      "source": [
        "X=dataset.iloc[:,[2,3]].values\n",
        "y=dataset.iloc[:,4].values\n",
        "X,y"
      ],
      "metadata": {
        "id": "Z-I73_QRox93"
      },
      "execution_count": null,
      "outputs": []
    },
    {
      "cell_type": "code",
      "source": [
        "#gini=impurity ---- range from 0 -1 ------>   means pure (Only 1 calss)---- means 1--- many classes and records (data point) belong to multi classes\n",
        "#purcahse---output\n",
        "#person -- car buy=1 or not buy=0\n",
        "#Purely --- one clasee\n",
        "#calss = 0 and 1 (Purchase clm)"
      ],
      "metadata": {
        "id": "OJg5NifTmWET"
      },
      "execution_count": null,
      "outputs": []
    },
    {
      "cell_type": "code",
      "source": [
        "from sklearn.tree import DecisionTreeClassifier"
      ],
      "metadata": {
        "id": "xdXV8VO8oF7n"
      },
      "execution_count": null,
      "outputs": []
    },
    {
      "cell_type": "code",
      "source": [
        "dtclr=DecisionTreeClassifier(criterion='gini',splitter='random',random_state=0,) # gini is by difult"
      ],
      "metadata": {
        "id": "UKCY-TrDoKS3"
      },
      "execution_count": null,
      "outputs": []
    },
    {
      "cell_type": "code",
      "source": [
        "from sklearn.model_selection import train_test_split"
      ],
      "metadata": {
        "id": "rR_ti1ZIpxSa"
      },
      "execution_count": null,
      "outputs": []
    },
    {
      "cell_type": "code",
      "source": [
        "X_train,X_test,y_train,y_test=train_test_split(X,y,test_size=0.25,random_state=0)"
      ],
      "metadata": {
        "id": "MUTnQknDot6J"
      },
      "execution_count": null,
      "outputs": []
    },
    {
      "cell_type": "code",
      "source": [
        "from sklearn.preprocessing import StandardScaler"
      ],
      "metadata": {
        "id": "DQiFasJ-ppuX"
      },
      "execution_count": null,
      "outputs": []
    },
    {
      "cell_type": "code",
      "source": [
        "sc=StandardScaler()"
      ],
      "metadata": {
        "id": "j4O4G8QDqXWd"
      },
      "execution_count": null,
      "outputs": []
    },
    {
      "cell_type": "code",
      "source": [
        "X_train=sc.fit_transform(X_train)"
      ],
      "metadata": {
        "id": "qgX7mrvaqcIA"
      },
      "execution_count": null,
      "outputs": []
    },
    {
      "cell_type": "code",
      "source": [
        "X_test=sc.fit_transform(X_test)"
      ],
      "metadata": {
        "id": "UI5MWd10qqCG"
      },
      "execution_count": null,
      "outputs": []
    },
    {
      "cell_type": "code",
      "source": [
        "dtclr.fit(X_train,y_train)"
      ],
      "metadata": {
        "id": "5ngbO_42rZ-4"
      },
      "execution_count": null,
      "outputs": []
    },
    {
      "cell_type": "code",
      "source": [
        "y_pred=dtclr.predict(X_test)"
      ],
      "metadata": {
        "id": "NPyF0FLErkVn"
      },
      "execution_count": null,
      "outputs": []
    },
    {
      "cell_type": "code",
      "source": [
        "y_pred"
      ],
      "metadata": {
        "id": "R2-Ezkw7rpO0"
      },
      "execution_count": null,
      "outputs": []
    },
    {
      "cell_type": "code",
      "source": [
        "y_test"
      ],
      "metadata": {
        "id": "5xyY_HwNrtn0"
      },
      "execution_count": null,
      "outputs": []
    },
    {
      "cell_type": "code",
      "source": [
        "from sklearn.metrics import accuracy_score,confusion_matrix"
      ],
      "metadata": {
        "id": "ftiXVMM1rzqw"
      },
      "execution_count": null,
      "outputs": []
    },
    {
      "cell_type": "code",
      "source": [
        "print(confusion_matrix(y_test,y_pred))\n",
        "print('Accuracy score:-',accuracy_score(y_test,y_pred))\n"
      ],
      "metadata": {
        "id": "LFpD583Qr_30"
      },
      "execution_count": null,
      "outputs": []
    },
    {
      "cell_type": "code",
      "source": [
        "#traind data"
      ],
      "metadata": {
        "id": "AFZXUPXesiQi"
      },
      "execution_count": null,
      "outputs": []
    },
    {
      "cell_type": "code",
      "source": [
        "x=X_train[:,0]\n",
        "y=X_train[:,1]\n",
        "x,y"
      ],
      "metadata": {
        "collapsed": true,
        "id": "g9LTvc0vskKZ"
      },
      "execution_count": null,
      "outputs": []
    },
    {
      "cell_type": "code",
      "source": [
        "c=y_train"
      ],
      "metadata": {
        "id": "QCFvC6jmsrNo"
      },
      "execution_count": null,
      "outputs": []
    },
    {
      "cell_type": "code",
      "source": [
        "import matplotlib.pyplot as plt"
      ],
      "metadata": {
        "id": "6K8RR5Pbs29U"
      },
      "execution_count": null,
      "outputs": []
    },
    {
      "cell_type": "code",
      "source": [
        "plt.scatter(x,y,c=c)"
      ],
      "metadata": {
        "id": "lL6t1KPcs-Jb"
      },
      "execution_count": null,
      "outputs": []
    },
    {
      "cell_type": "code",
      "source": [
        "# test data\n",
        "x=X_test[:,0]\n",
        "y=X_test[:,1]\n",
        "x,y\n",
        "c=y_test\n",
        "plt.scatter(x,y,c=c)"
      ],
      "metadata": {
        "id": "R37azLidtJsc"
      },
      "execution_count": null,
      "outputs": []
    },
    {
      "cell_type": "code",
      "source": [
        "# Pred data\n",
        "x=X_test[:,0]\n",
        "y=X_test[:,1]\n",
        "x,y\n",
        "c=y_pred\n",
        "plt.scatter(x,y,c=c)"
      ],
      "metadata": {
        "id": "M5FcEqK_tY8v"
      },
      "execution_count": null,
      "outputs": []
    },
    {
      "cell_type": "code",
      "source": [],
      "metadata": {
        "id": "jOVG8kCetq8Z"
      },
      "execution_count": null,
      "outputs": []
    },
    {
      "cell_type": "markdown",
      "source": [
        "#Decision Trees for Classification in Machine Learning - Practical - 2"
      ],
      "metadata": {
        "id": "vodY-u21trXd"
      }
    },
    {
      "cell_type": "markdown",
      "source": [
        "#What is the purpose of decision tree?\n",
        "Decision trees assist you in weighing your options. Decision trees are fantastic tools for assisting you in deciding between multiple options. They give a highly effective framework within which you can set out possibilities and analyse the implications of those options."
      ],
      "metadata": {
        "id": "2ll9J_Cttw8c"
      }
    },
    {
      "cell_type": "code",
      "source": [
        "data=pd.read_csv('/content/golf-dataset.csv')"
      ],
      "metadata": {
        "id": "7QaNvxcTtt80"
      },
      "execution_count": null,
      "outputs": []
    },
    {
      "cell_type": "code",
      "source": [
        "data"
      ],
      "metadata": {
        "id": "Lz3ytUu-uVNp"
      },
      "execution_count": null,
      "outputs": []
    },
    {
      "cell_type": "code",
      "source": [
        "data.columns"
      ],
      "metadata": {
        "id": "WssCgdl6uw5_"
      },
      "execution_count": null,
      "outputs": []
    },
    {
      "cell_type": "code",
      "source": [
        "data.columns=['Outlook', 'Temperature', 'Humidity', 'Wind', 'PlayBall']"
      ],
      "metadata": {
        "id": "W_kW7jD1u5t_"
      },
      "execution_count": null,
      "outputs": []
    },
    {
      "cell_type": "code",
      "source": [
        "data.head()"
      ],
      "metadata": {
        "id": "ptU4yhvyvYMJ"
      },
      "execution_count": null,
      "outputs": []
    },
    {
      "cell_type": "code",
      "source": [
        "data['Outlook'].unique()"
      ],
      "metadata": {
        "id": "N08qQoQcva7L"
      },
      "execution_count": null,
      "outputs": []
    },
    {
      "cell_type": "code",
      "source": [
        "# Convert to numerice\n",
        "Out={'Rainy':2, 'Overcast':1, 'Sunny':0}"
      ],
      "metadata": {
        "id": "GwIGOHCDvkTv"
      },
      "execution_count": null,
      "outputs": []
    },
    {
      "cell_type": "code",
      "source": [
        "data['Outlook']=data['Outlook'].map(lambda x:Out[x])"
      ],
      "metadata": {
        "id": "I0JQ4ZCwv0fL"
      },
      "execution_count": null,
      "outputs": []
    },
    {
      "cell_type": "code",
      "source": [
        "data.head()"
      ],
      "metadata": {
        "id": "sbWMqL0PwEfy"
      },
      "execution_count": null,
      "outputs": []
    },
    {
      "cell_type": "code",
      "source": [
        "data['Temperature'] = data['Temperature'].map({'Hot': 2, 'Mild': 1, 'Cool': 0})\n"
      ],
      "metadata": {
        "id": "bxhxwQ18wHcR"
      },
      "execution_count": null,
      "outputs": []
    },
    {
      "cell_type": "code",
      "source": [
        "data['Temperature'].unique()"
      ],
      "metadata": {
        "id": "h5NLBM_4wVA6"
      },
      "execution_count": null,
      "outputs": []
    },
    {
      "cell_type": "code",
      "source": [
        "data['Humidity'].unique()"
      ],
      "metadata": {
        "id": "rkfrwdoIwp0Z"
      },
      "execution_count": null,
      "outputs": []
    },
    {
      "cell_type": "code",
      "source": [
        "data['Humidity'] = data['Humidity'].map(lambda x: 1 if x == 'High' else 1)\n"
      ],
      "metadata": {
        "id": "NyiKwKzUxGxG"
      },
      "execution_count": null,
      "outputs": []
    },
    {
      "cell_type": "code",
      "source": [
        "  data.head()"
      ],
      "metadata": {
        "id": "uy3ILDeGxgDG"
      },
      "execution_count": null,
      "outputs": []
    },
    {
      "cell_type": "code",
      "source": [
        "data['Wind'] = data['Wind'].map(lambda x: 1 if x == 'True' else 1)"
      ],
      "metadata": {
        "id": "XNOiYByjxuFY"
      },
      "execution_count": null,
      "outputs": []
    },
    {
      "cell_type": "code",
      "source": [
        "data['PlayBall'] = data['PlayBall'].map(lambda x: 1 if x == 'No' else 1)"
      ],
      "metadata": {
        "id": "Z5-mO__gxyCR"
      },
      "execution_count": null,
      "outputs": []
    },
    {
      "cell_type": "code",
      "source": [
        "  data.head()"
      ],
      "metadata": {
        "id": "H_duXG6jyCxu"
      },
      "execution_count": null,
      "outputs": []
    },
    {
      "cell_type": "code",
      "source": [
        "from sklearn.tree import DecisionTreeClassifier"
      ],
      "metadata": {
        "id": "_ajcL30-yqcq"
      },
      "execution_count": null,
      "outputs": []
    },
    {
      "cell_type": "code",
      "source": [
        "model=DecisionTreeClassifier()"
      ],
      "metadata": {
        "id": "U2nYXsnGyu9R"
      },
      "execution_count": null,
      "outputs": []
    },
    {
      "cell_type": "code",
      "source": [
        "model.fit(data.iloc[:,1:4],data.iloc[:,4])"
      ],
      "metadata": {
        "id": "QZfuWfKFy0Sd"
      },
      "execution_count": null,
      "outputs": []
    },
    {
      "cell_type": "code",
      "source": [
        "from sklearn import tree\n",
        "import matplotlib.pyplot as plt"
      ],
      "metadata": {
        "id": "hL_zl58izZDF"
      },
      "execution_count": null,
      "outputs": []
    },
    {
      "cell_type": "code",
      "source": [
        "plt.figure(figsize=(12,8))\n",
        "tree.plot_tree(model,filled=True)\n"
      ],
      "metadata": {
        "id": "lCRlsQjLzjS7"
      },
      "execution_count": null,
      "outputs": []
    },
    {
      "cell_type": "code",
      "source": [
        "plt.figure(figsize=(12,8))\n",
        "print(tree.plot_tree(model))"
      ],
      "metadata": {
        "id": "GFx0QDR2zxrB"
      },
      "execution_count": null,
      "outputs": []
    },
    {
      "cell_type": "code",
      "source": [
        "from sklearn.tree import export_graphviz"
      ],
      "metadata": {
        "id": "kIqNZEqTz85y"
      },
      "execution_count": null,
      "outputs": []
    },
    {
      "cell_type": "code",
      "source": [
        "Fearture_names=['Outlook','Temperature','Humidity','Wind']"
      ],
      "metadata": {
        "id": "OUMx6-nk0Bex"
      },
      "execution_count": null,
      "outputs": []
    },
    {
      "cell_type": "code",
      "source": [
        "out=['Yes','No']\n",
        "dot=export_graphviz(decision_tree=model,out_file='Golf.dot',feature_names=feature_names, class_names=out,filled=True,rounded=True,special_characters=True    )"
      ],
      "metadata": {
        "id": "yYh5brtH0FMM"
      },
      "execution_count": null,
      "outputs": []
    }
  ]
}